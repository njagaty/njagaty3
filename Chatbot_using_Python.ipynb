{
  "nbformat": 4,
  "nbformat_minor": 0,
  "metadata": {
    "colab": {
      "provenance": [],
      "authorship_tag": "ABX9TyOeN3TtEaNVvt8UoHAfIJiH",
      "include_colab_link": true
    },
    "kernelspec": {
      "name": "python3",
      "display_name": "Python 3"
    },
    "language_info": {
      "name": "python"
    }
  },
  "cells": [
    {
      "cell_type": "markdown",
      "metadata": {
        "id": "view-in-github",
        "colab_type": "text"
      },
      "source": [
        "<a href=\"https://colab.research.google.com/github/njagaty/njagaty3/blob/main/Chatbot_using_Python.ipynb\" target=\"_parent\"><img src=\"https://colab.research.google.com/assets/colab-badge.svg\" alt=\"Open In Colab\"/></a>"
      ]
    },
    {
      "cell_type": "code",
      "execution_count": 1,
      "metadata": {
        "colab": {
          "base_uri": "https://localhost:8080/"
        },
        "id": "LJCIzEkqoDJW",
        "outputId": "86a4a12a-8136-41b7-a54e-94515519cfae"
      },
      "outputs": [
        {
          "output_type": "stream",
          "name": "stdout",
          "text": [
            "Om Sri Sairam\n"
          ]
        }
      ],
      "source": [
        "print(\"Om Sri Sairam\")"
      ]
    },
    {
      "cell_type": "markdown",
      "source": [],
      "metadata": {
        "id": "gWrENPjxpvJ8"
      }
    },
    {
      "cell_type": "markdown",
      "source": [
        "A Chatbot is an application that interacts with users like a human. Chatbots are typically used to resolve the most common queries that a business receives from its customers daily. In this article, I’ll walk you through how to create a Chatbot using Python.A Chatbot is an AI application that mimics human conversations. It is widely used by companies to solve the most common problems they receive from customers daily. For example, if you want to know the CRN of your bank account, a chatbot will assist you by asking for your bank details, then it will give you your CRN. But if you want to know something that is not that common, like asking how you can turn your account into a joint account, chances are the authorized employee will assist you.\n",
        "\n",
        "So while creating a chatbot for any company you should know what that company deals in and what problems their customers get daily. In the section below, I will take you through how to create a chatbot using Python."
      ],
      "metadata": {
        "id": "OQyY6IEepKvL"
      }
    },
    {
      "cell_type": "markdown",
      "source": [
        "Now let’s see how to create a chatbot with Python. Here, I will be using the NLTK library in Python which is one of the best Python libraries for any task of natural language processing:"
      ],
      "metadata": {
        "id": "kJPK7ijSpwwB"
      }
    }
  ]
}